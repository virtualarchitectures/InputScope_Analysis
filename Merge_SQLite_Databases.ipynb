{
 "cells": [
  {
   "cell_type": "markdown",
   "id": "7f0c0488",
   "metadata": {},
   "source": [
    "# Merge SQLite Databases\n",
    "\n",
    "The following code can be used to copy information from a folder of SQLite databases into a new merged SQLite database in a separate folder.\n",
    "\n",
    "This code here is an adaptation of the [sqlMerge](https://github.com/kd8bny/sqlMerge) tool."
   ]
  },
  {
   "cell_type": "markdown",
   "id": "b3c53733",
   "metadata": {},
   "source": [
    "#### Import Packages"
   ]
  },
  {
   "cell_type": "code",
   "execution_count": null,
   "id": "b82c35fe",
   "metadata": {},
   "outputs": [],
   "source": [
    "import sqlite3\n",
    "import os\n",
    "import shutil"
   ]
  },
  {
   "cell_type": "markdown",
   "id": "ef759694",
   "metadata": {},
   "source": [
    "#### Set paths to InputScope databases"
   ]
  },
  {
   "cell_type": "code",
   "execution_count": null,
   "id": "3c44651a",
   "metadata": {},
   "outputs": [],
   "source": [
    "input_folder = \"./BackupFiles/\"\n",
    "output_folder = \"./InputScope/\"\n",
    "db_name_ext = \"inputscope.db\""
   ]
  },
  {
   "cell_type": "markdown",
   "id": "a13f07cb",
   "metadata": {},
   "source": [
    "#### Define Database Merging Functions\n",
    "\n",
    "Within the `merge_databases()` function the clause `AS SELECT DISTINCT * FROM` removes duplicate rows as the tables form each database are merged:\n",
    "```python\n",
    "try:\n",
    "    cursor_a.execute(\"CREATE TABLE IF NOT EXISTS \" + new_table_name + \" AS SELECT DISTINCT * FROM \" + current_table)\n",
    "    for row in cursor_b.execute(\"SELECT * FROM \" + current_table):\n",
    "```\n",
    "\n",
    "Generally this will be the desired behaviour. However, if duplicate need to be retailed change to `AS SELECT * FROM`."
   ]
  },
  {
   "cell_type": "code",
   "execution_count": null,
   "id": "6f16a7cb",
   "metadata": {},
   "outputs": [],
   "source": [
    "def merge_databases(file_a, file_b):\n",
    "    db_a = sqlite3.connect(file_a)\n",
    "    db_b = sqlite3.connect(file_b)\n",
    "\n",
    "    cursor_a = db_a.cursor()\n",
    "    cursor_b = db_b.cursor()\n",
    "    cursor_a.execute(\"SELECT name FROM sqlite_master WHERE type='table';\")\n",
    "\n",
    "    table_counter = 0\n",
    "    for table_item in cursor_a.fetchall():\n",
    "        current_table = table_item[0]\n",
    "        \n",
    "        print(\"Table: \" + current_table)\n",
    "        \n",
    "        table_counter += 1\n",
    "\n",
    "        cursor_a = db_a.cursor()\n",
    "\n",
    "        new_table_name = current_table + \"_new\"\n",
    "\n",
    "        try:\n",
    "            cursor_a.execute(\"CREATE TABLE IF NOT EXISTS \" + new_table_name + \" AS SELECT DISTINCT * FROM \" + current_table)\n",
    "            for row in cursor_b.execute(\"SELECT * FROM \" + current_table):\n",
    "                cursor_a.execute(\"INSERT INTO \" + new_table_name + \" VALUES\" + str(row) +\";\")\n",
    "\n",
    "            cursor_a.execute(\"DROP TABLE IF EXISTS \" + current_table);\n",
    "            cursor_a.execute(\"ALTER TABLE \" + new_table_name + \" RENAME TO \" + current_table);\n",
    "            db_a.commit()\n",
    "\n",
    "        except sqlite3.OperationalError:\n",
    "            print(\"ERROR!: Merge Failed\")\n",
    "            cursor_a.execute(\"DROP TABLE IF EXISTS \" + new_table_name);\n",
    "\n",
    "    db_a.close()\n",
    "    db_b.close()\n",
    "\n",
    "    print(\"Merge Successful!\")\n",
    "    \n",
    "    return\n",
    "\n",
    "def read_files(directory):\n",
    "    fnames = []\n",
    "    for root,d_names,f_names in os.walk(directory):\n",
    "        for f in f_names:\n",
    "            c_name = os.path.join(root, f)\n",
    "            filename, file_extension = os.path.splitext(c_name)\n",
    "            if (file_extension == '.db'):\n",
    "                fnames.append(c_name)\n",
    "    \n",
    "    return fnames\n",
    "\n",
    "def batch_merge(input_folder, output_folder):\n",
    "    \n",
    "    new_db = f\"./{output_folder}/{db_name_ext}\"\n",
    "    \n",
    "    db_files = read_files(input_folder)\n",
    "    shutil.copy(db_files[0], new_db)\n",
    "    \n",
    "    for db_file in db_files:\n",
    "        \n",
    "        print(\"Merging \" + db_file)\n",
    "        \n",
    "        merge_databases(new_db, db_file)\n",
    "        \n",
    "    return"
   ]
  },
  {
   "cell_type": "markdown",
   "id": "8e06d2e4",
   "metadata": {},
   "source": [
    "#### Call the Merge Function"
   ]
  },
  {
   "cell_type": "code",
   "execution_count": null,
   "id": "0947152a",
   "metadata": {},
   "outputs": [],
   "source": [
    "batch_merge(input_folder, output_folder)"
   ]
  },
  {
   "cell_type": "code",
   "execution_count": null,
   "id": "dc9bab10",
   "metadata": {},
   "outputs": [],
   "source": []
  }
 ],
 "metadata": {
  "kernelspec": {
   "display_name": "Python 3 (ipykernel)",
   "language": "python",
   "name": "python3"
  },
  "language_info": {
   "codemirror_mode": {
    "name": "ipython",
    "version": 3
   },
   "file_extension": ".py",
   "mimetype": "text/x-python",
   "name": "python",
   "nbconvert_exporter": "python",
   "pygments_lexer": "ipython3",
   "version": "3.8.12"
  }
 },
 "nbformat": 4,
 "nbformat_minor": 5
}

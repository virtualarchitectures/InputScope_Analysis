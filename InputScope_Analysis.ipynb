{
 "cells": [
  {
   "cell_type": "markdown",
   "id": "8169994a",
   "metadata": {},
   "source": [
    "# InputScope Analysis\n",
    "\n",
    "This notebook provides a means for analysing data generated using the [InputScope](https://github.com/suurjaak/InputScope) mouse and keyboard interaction logger. Data from the tool is stored in an SQLite database. This notebook provides the ability to combine outputs from one or multiple InputScope databases if required."
   ]
  },
  {
   "cell_type": "markdown",
   "id": "c999602a",
   "metadata": {},
   "source": [
    "#### Import Packages"
   ]
  },
  {
   "cell_type": "code",
   "execution_count": null,
   "id": "55e12ce2",
   "metadata": {},
   "outputs": [],
   "source": [
    "import sqlite3\n",
    "from sqlite3 import Error\n",
    "import pandas as pd\n",
    "import os"
   ]
  },
  {
   "cell_type": "markdown",
   "id": "889dbe16",
   "metadata": {},
   "source": [
    "#### Set paths to InputScope databases, screen images and analysis outputs"
   ]
  },
  {
   "cell_type": "code",
   "execution_count": null,
   "id": "83f40d28",
   "metadata": {},
   "outputs": [],
   "source": [
    "db_filepath = \"./InputScope/\"\n",
    "screen_content = \"./ScreenContent/\"\n",
    "outputs = \"./Outputs/\""
   ]
  },
  {
   "cell_type": "markdown",
   "id": "154b1678",
   "metadata": {},
   "source": [
    "#### Function to create the database connection\n",
    "\n",
    "If you try to connect to an SQLite database file that does not exist, SQLite will automatically create the new database for you. However, any folder's specified in the filepath to the database must exist before you execute the program."
   ]
  },
  {
   "cell_type": "code",
   "execution_count": null,
   "id": "a598a990",
   "metadata": {},
   "outputs": [],
   "source": [
    "# Define the function to connect to an SQLite database\n",
    "def create_connection(db_file):\n",
    "    \n",
    "    # Create a new database connection object\n",
    "    db = None\n",
    "    try:\n",
    "        # Try the database connection\n",
    "        db = sqlite3.connect(db_file)\n",
    "        \n",
    "        # Query tables and store in dataframes\n",
    "        app_events = pd.read_sql_query(\"SELECT * FROM app_events\", db)\n",
    "        counts = pd.read_sql_query(\"SELECT * FROM counts\", db)\n",
    "        screen_sizes = pd.read_sql_query(\"SELECT * FROM screen_sizes\", db)\n",
    "        clicks = pd.read_sql_query(\"SELECT * FROM clicks\", db)\n",
    "        moves = pd.read_sql_query(\"SELECT * FROM moves\", db)\n",
    "        scrolls = pd.read_sql_query(\"SELECT * FROM scrolls\", db)\n",
    "        keys = pd.read_sql_query(\"SELECT * FROM keys\", db)\n",
    "        combos = pd.read_sql_query(\"SELECT * FROM combos\", db)\n",
    "        \n",
    "        # Create dictionary of datatables\n",
    "        datatables = {\"app_events\": app_events,\n",
    "                      \"counts\": counts,\n",
    "                      \"screen_sizes\": screen_sizes,\n",
    "                      \"clicks\": clicks,\n",
    "                      \"moves\": moves,\n",
    "                      \"scrolls\": scrolls,\n",
    "                      \"keys\": keys,\n",
    "                      \"combos\": combos}\n",
    "        \n",
    "        # Return the datatables\n",
    "        return datatables\n",
    "        \n",
    "    # Catch and print any errors\n",
    "    except Error as e:\n",
    "        print(e)\n",
    "    # Close the connection after execution of the try/except block\n",
    "    finally:\n",
    "        if db:\n",
    "            db.close()"
   ]
  },
  {
   "cell_type": "code",
   "execution_count": null,
   "id": "8857ec44",
   "metadata": {},
   "outputs": [],
   "source": [
    "db_filepath + \"inputscope.db\"#filename"
   ]
  },
  {
   "cell_type": "markdown",
   "id": "2254145d",
   "metadata": {},
   "source": [
    "#### Extract and merge contents from multiple InputScope databases\n",
    "\n",
    "This code assumes that the separate SQLite databases have the structure."
   ]
  },
  {
   "cell_type": "code",
   "execution_count": null,
   "id": "6f2c0891",
   "metadata": {},
   "outputs": [],
   "source": [
    "# Loop through database folders\n",
    "for filename in os.listdir(db_filepath):\n",
    "    db_tables = create_connection(db_filepath + filename)\n",
    "    print(\"Read database - \" + filename)"
   ]
  },
  {
   "cell_type": "markdown",
   "id": "b777808e",
   "metadata": {},
   "source": [
    "#### Display App Start Events"
   ]
  },
  {
   "cell_type": "code",
   "execution_count": null,
   "id": "11d97c10",
   "metadata": {},
   "outputs": [],
   "source": [
    "db_tables[\"app_events\"]"
   ]
  },
  {
   "cell_type": "markdown",
   "id": "9f19f3a2",
   "metadata": {},
   "source": [
    "#### Display Counts of Interactions"
   ]
  },
  {
   "cell_type": "code",
   "execution_count": null,
   "id": "876a5f7e",
   "metadata": {},
   "outputs": [],
   "source": [
    "db_tables[\"counts\"]"
   ]
  },
  {
   "cell_type": "markdown",
   "id": "dba91aea",
   "metadata": {},
   "source": [
    "#### Display Screen Sizes"
   ]
  },
  {
   "cell_type": "code",
   "execution_count": null,
   "id": "2eea5b20",
   "metadata": {},
   "outputs": [],
   "source": [
    "db_tables[\"screen_sizes\"]"
   ]
  },
  {
   "cell_type": "markdown",
   "id": "881edcdb",
   "metadata": {},
   "source": [
    "#### Plot Heatmap\n",
    "\n",
    "Visualisation based on the following: https://stackoverflow.com/questions/36957149/density-map-heatmaps-in-matplotlib/36958298"
   ]
  },
  {
   "cell_type": "code",
   "execution_count": null,
   "id": "5f709cea",
   "metadata": {},
   "outputs": [],
   "source": [
    "import numpy as np\n",
    "import matplotlib.pyplot as plt\n",
    "from matplotlib.colors import LinearSegmentedColormap\n",
    "from scipy.stats.kde import gaussian_kde\n",
    "\n",
    "x,y = db_tables[\"clicks\"][\"x\"], db_tables[\"clicks\"][\"y\"]\n",
    "\n",
    "k = gaussian_kde(np.vstack([x,y]))\n",
    "xi, yi = np.mgrid[x.min():x.max():x.size**0.5*1j,y.min():y.max():y.size**0.5*1j]\n",
    "zi = k(np.vstack([xi.flatten(), yi.flatten()]))\n",
    "\n",
    "# Custom colourmap can be used instead of Matplotlib defaults\n",
    "colors = [(0, 0, 1), (0, 1, 1), (0, 1, 0.75), (0, 1, 0), (0.75, 1, 0),\n",
    "          (1, 1, 0), (1, 0.8, 0), (1, 0.7, 0), (1, 0, 0)]\n",
    "cm = LinearSegmentedColormap.from_list('sample', colors)\n",
    "\n",
    "# Set figure size\n",
    "fig = plt.figure(figsize=(14,16))\n",
    "ax1 = fig.add_subplot(211)\n",
    "ax2 = fig.add_subplot(212)\n",
    "\n",
    "# cmap specifies the colourmap and alpha makes the plots semitransparent\n",
    "ax1.pcolormesh(xi, yi, zi.reshape(xi.shape), cmap=\"viridis\", alpha=0.5)\n",
    "ax2.contourf(xi, yi, zi.reshape(xi.shape), cmap=\"viridis\", alpha=0.5)\n",
    "\n",
    "ax1.set_xlim(x.min(), x.max())\n",
    "ax1.set_ylim(y.min(), y.max())\n",
    "ax2.set_xlim(x.min(), x.max())\n",
    "ax2.set_ylim(y.min(), y.max())\n",
    "\n",
    "# Read image to overlay\n",
    "im = plt.imread(screen_content + 'img.jpg')\n",
    "\n",
    "# Show plot \n",
    "ax1.imshow(im, extent=[x.min(), x.max(), y.min(), y.max()], aspect='auto')\n",
    "ax2.imshow(im, extent=[x.min(), x.max(), y.min(), y.max()], aspect='auto')\n",
    "\n",
    "# Save plot\n",
    "plt.savefig(outputs + 'clicks.jpg')"
   ]
  },
  {
   "cell_type": "code",
   "execution_count": null,
   "id": "31531e9f",
   "metadata": {},
   "outputs": [],
   "source": []
  }
 ],
 "metadata": {
  "kernelspec": {
   "display_name": "Python 3 (ipykernel)",
   "language": "python",
   "name": "python3"
  },
  "language_info": {
   "codemirror_mode": {
    "name": "ipython",
    "version": 3
   },
   "file_extension": ".py",
   "mimetype": "text/x-python",
   "name": "python",
   "nbconvert_exporter": "python",
   "pygments_lexer": "ipython3",
   "version": "3.8.12"
  }
 },
 "nbformat": 4,
 "nbformat_minor": 5
}

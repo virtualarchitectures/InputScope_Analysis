{
 "cells": [
  {
   "cell_type": "markdown",
   "id": "8169994a",
   "metadata": {},
   "source": [
    "# InputScope Analysis\n",
    "\n",
    "This notebook provides a means for analysing data generated using the [InputScope](https://github.com/suurjaak/InputScope) mouse and keyboard interaction logger. Data from the tool is stored in an SQLite database. This notebook provides the ability to combine outputs from one or multiple InputScope databases if required."
   ]
  },
  {
   "cell_type": "markdown",
   "id": "c999602a",
   "metadata": {},
   "source": [
    "#### Import Packages"
   ]
  },
  {
   "cell_type": "code",
   "execution_count": null,
   "id": "55e12ce2",
   "metadata": {},
   "outputs": [],
   "source": [
    "import sqlite3\n",
    "from sqlite3 import Error\n",
    "import pandas as pd\n",
    "import os"
   ]
  },
  {
   "cell_type": "markdown",
   "id": "889dbe16",
   "metadata": {},
   "source": [
    "#### Set paths to InputScope databases, screen images and analysis outputs"
   ]
  },
  {
   "cell_type": "code",
   "execution_count": null,
   "id": "83f40d28",
   "metadata": {},
   "outputs": [],
   "source": [
    "db_filepath = \"./InputScope/\"\n",
    "db_filename = \"inputscope.db\"\n",
    "screen_content = \"./ScreenContent/\"\n",
    "outputs = \"./Outputs/\""
   ]
  },
  {
   "cell_type": "markdown",
   "id": "45195146",
   "metadata": {},
   "source": [
    "#### InputScope Sessions\n",
    "\n",
    "InputScope 1.5 has introduced the concept of numbered 'Sessions' with a distinct start and end time. These weren't captured in the InputScope 1.4. Session times have been added as a CSV matching the format of the SQLite tables in the latest version of InputScope."
   ]
  },
  {
   "cell_type": "code",
   "execution_count": null,
   "id": "53d996d6",
   "metadata": {},
   "outputs": [],
   "source": [
    "sessions_df = pd.read_csv(db_filepath + 'sessions.csv', index_col=0)\n",
    "sessions_df"
   ]
  },
  {
   "cell_type": "markdown",
   "id": "eeed3644",
   "metadata": {},
   "source": [
    "#### Plot Count of Participants"
   ]
  },
  {
   "cell_type": "code",
   "execution_count": null,
   "id": "28a996a1",
   "metadata": {},
   "outputs": [],
   "source": [
    "# Select required data\n",
    "structural = sessions_df.loc[sessions_df[\"name\"] == \"Structural\"][\"participants\"].tolist()\n",
    "fitout = sessions_df.loc[sessions_df[\"name\"] == \"Fitout\"][\"participants\"].tolist()\n",
    "dates = sessions_df.loc[sessions_df[\"name\"] == \"Structural\"][\"day1\"].tolist()\n",
    "participants_df = pd.DataFrame({\"Structural\": structural, \"Fitout\": fitout}, index = dates)\n",
    "# Plot data\n",
    "ax = participants_df.plot.bar(figsize=(10,6), rot = 0, title = \"Number of Participants in Weekly 3WLA Meetings\")\n",
    "# Add annotations to barsbars\n",
    "for p in ax.patches:\n",
    "    ax.annotate(str(p.get_height()).zfill(2), (p.get_x() + 0.05, p.get_height() + 0.2))\n",
    "# Save figure as image"
   ]
  },
  {
   "cell_type": "markdown",
   "id": "454dd469",
   "metadata": {},
   "source": [
    "#### Save Plot of Participants Count"
   ]
  },
  {
   "cell_type": "code",
   "execution_count": null,
   "id": "2e931d59",
   "metadata": {},
   "outputs": [],
   "source": [
    "fig = ax.get_figure()\n",
    "fig.savefig(outputs + \"Session_Participants.jpg\")"
   ]
  },
  {
   "cell_type": "markdown",
   "id": "130d2344",
   "metadata": {},
   "source": [
    "#### Calculate Length of Sessions (mins)"
   ]
  },
  {
   "cell_type": "code",
   "execution_count": null,
   "id": "3e5d73c4",
   "metadata": {},
   "outputs": [],
   "source": [
    "sessions_df[\"duration\"] = ((sessions_df[\"end\"] - sessions_df[\"start\"]) / 60).astype(int)\n",
    "sessions_df"
   ]
  },
  {
   "cell_type": "markdown",
   "id": "7d7d69c1",
   "metadata": {},
   "source": [
    "#### Plot Length of Sessions"
   ]
  },
  {
   "cell_type": "code",
   "execution_count": null,
   "id": "e7faa8a8",
   "metadata": {},
   "outputs": [],
   "source": [
    "# Select required data\n",
    "structural = sessions_df.loc[sessions_df[\"name\"] == \"Structural\"][\"duration\"].tolist()\n",
    "fitout = sessions_df.loc[sessions_df[\"name\"] == \"Fitout\"][\"duration\"].tolist()\n",
    "dates = sessions_df.loc[sessions_df[\"name\"] == \"Structural\"][\"day1\"].tolist()\n",
    "participants_df = pd.DataFrame({\"Structural\": structural, \"Fitout\": fitout}, index = dates)\n",
    "# Plot data\n",
    "ax = participants_df.plot.bar(figsize=(10,6), rot = 0, title = \"Duration of Weekly 3WLA Meetings (mins)\")\n",
    "# Add annotations to barsbars\n",
    "for p in ax.patches:\n",
    "    ax.annotate(str(p.get_height()).zfill(2), (p.get_x() + 0.05, p.get_height() + 0.8))"
   ]
  },
  {
   "cell_type": "markdown",
   "id": "8ef358c2",
   "metadata": {},
   "source": [
    "#### Save Plot of Length of Sessions"
   ]
  },
  {
   "cell_type": "code",
   "execution_count": null,
   "id": "ef9727e8",
   "metadata": {},
   "outputs": [],
   "source": [
    "# Save figure as image\n",
    "fig = ax.get_figure()\n",
    "fig.savefig(outputs + \"Session_Durations.jpg\")"
   ]
  },
  {
   "cell_type": "markdown",
   "id": "154b1678",
   "metadata": {},
   "source": [
    "#### Define Function to Create the Database Connection and Extract Data\n",
    "\n",
    "If you try to connect to an SQLite database file that does not exist, SQLite will automatically create the new database for you. However, any folder's specified in the filepath to the database must exist before you execute the program."
   ]
  },
  {
   "cell_type": "code",
   "execution_count": null,
   "id": "a598a990",
   "metadata": {},
   "outputs": [],
   "source": [
    "# Define the function to connect to an SQLite database\n",
    "def create_connection(db_file):\n",
    "    \n",
    "    # Create a new database connection object\n",
    "    db = None\n",
    "    try:\n",
    "        # Try the database connection\n",
    "        db = sqlite3.connect(db_file)\n",
    "        \n",
    "        # Query tables and store in dataframes\n",
    "        app_events = pd.read_sql_query(\"SELECT * FROM app_events\", db)\n",
    "        counts = pd.read_sql_query(\"SELECT * FROM counts\", db)\n",
    "        screen_sizes = pd.read_sql_query(\"SELECT * FROM screen_sizes\", db)\n",
    "        clicks = pd.read_sql_query(\"SELECT * FROM clicks\", db)\n",
    "        moves = pd.read_sql_query(\"SELECT * FROM moves\", db)\n",
    "        scrolls = pd.read_sql_query(\"SELECT * FROM scrolls\", db)\n",
    "        keys = pd.read_sql_query(\"SELECT * FROM keys\", db)\n",
    "        combos = pd.read_sql_query(\"SELECT * FROM combos\", db)\n",
    "        \n",
    "        # Create dictionary of datatables\n",
    "        datatables = {\"app_events\": app_events,\n",
    "                      \"counts\": counts,\n",
    "                      \"screen_sizes\": screen_sizes,\n",
    "                      \"clicks\": clicks,\n",
    "                      \"moves\": moves,\n",
    "                      \"scrolls\": scrolls,\n",
    "                      \"keys\": keys,\n",
    "                      \"combos\": combos}\n",
    "        \n",
    "        # Return the datatables\n",
    "        return datatables\n",
    "        \n",
    "    # Catch and print any errors\n",
    "    except Error as e:\n",
    "        print(e)\n",
    "    # Close the connection after execution of the try/except block\n",
    "    finally:\n",
    "        if db:\n",
    "            db.close()"
   ]
  },
  {
   "cell_type": "markdown",
   "id": "2254145d",
   "metadata": {},
   "source": [
    "#### Extract Contents for the InputScope Database"
   ]
  },
  {
   "cell_type": "code",
   "execution_count": null,
   "id": "6f2c0891",
   "metadata": {},
   "outputs": [],
   "source": [
    "# Loop through database folder\n",
    "for filename in os.listdir(db_filepath):\n",
    "    print(\"Read database - \" + filename)\n",
    "    db_tables = create_connection(db_filepath + db_filename)"
   ]
  },
  {
   "cell_type": "markdown",
   "id": "9f19f3a2",
   "metadata": {},
   "source": [
    "#### Display Counts of Interactions"
   ]
  },
  {
   "cell_type": "code",
   "execution_count": null,
   "id": "876a5f7e",
   "metadata": {},
   "outputs": [],
   "source": [
    "db_tables[\"counts\"]"
   ]
  },
  {
   "cell_type": "markdown",
   "id": "a82fc6a2",
   "metadata": {},
   "source": [
    "#### Plot Comparison of Interaction Type Counts by Date"
   ]
  },
  {
   "cell_type": "code",
   "execution_count": null,
   "id": "0d3afc02",
   "metadata": {},
   "outputs": [],
   "source": [
    "# Select required data\n",
    "moves = db_tables[\"counts\"].loc[db_tables[\"counts\"][\"type\"] == \"moves\"][\"count\"].tolist()\n",
    "clicks = db_tables[\"counts\"].loc[db_tables[\"counts\"][\"type\"] == \"clicks\"][\"count\"].tolist()\n",
    "scrolls = db_tables[\"counts\"].loc[db_tables[\"counts\"][\"type\"] == \"scrolls\"][\"count\"].tolist()\n",
    "keys = db_tables[\"counts\"].loc[db_tables[\"counts\"][\"type\"] == \"keys\"][\"count\"].tolist()\n",
    "combos = db_tables[\"counts\"].loc[db_tables[\"counts\"][\"type\"] == \"combos\"][\"count\"].tolist()\n",
    "dates = db_tables[\"counts\"].loc[db_tables[\"counts\"][\"type\"] == \"clicks\"][\"day\"].tolist()\n",
    "\n",
    "counts_df = pd.DataFrame({\"Clicks\": clicks, \"Scrolls\" : scrolls, \"Keys\" : keys, \"Combos\" : combos}, index = dates)\n",
    "subplot_df = pd.DataFrame({\"Mouse Moves\": moves}, index = dates)\n",
    "# Plot data\n",
    "ax1 = counts_df.plot.bar(figsize=(10,6), rot = 0, title = \"Count of Screen Interactions in Weekly 3WLA Meetings by Type\")\n",
    "ax2 = subplot_df.plot.bar(figsize=(10,6), rot = 0, title = \"Distance of Mouse Moves (screen pixels) in Weekly 3WLA Meetings\")\n",
    "# Add annotations to barsbars\n",
    "for p in ax1.patches:\n",
    "    ax1.annotate(str(p.get_height()).zfill(2), (p.get_x() + 0.00, p.get_height() + 2))\n",
    "for p in ax2.patches:\n",
    "    ax2.annotate(str(p.get_height()).zfill(2), (p.get_x() + 0.08, p.get_height() + 30))"
   ]
  },
  {
   "cell_type": "markdown",
   "id": "ffddf5a8",
   "metadata": {},
   "source": [
    "#### Save Plots for Interactions"
   ]
  },
  {
   "cell_type": "code",
   "execution_count": null,
   "id": "3bbc10a0",
   "metadata": {},
   "outputs": [],
   "source": [
    "# Save figures as images\n",
    "fig1 = ax1.get_figure()\n",
    "fig1.savefig(outputs + \"Interactions_Count.jpg\")\n",
    "fig2 = ax2.get_figure()\n",
    "fig2.savefig(outputs + \"Mouse_Move_Distance.jpg\")"
   ]
  },
  {
   "cell_type": "markdown",
   "id": "dba91aea",
   "metadata": {},
   "source": [
    "#### Display Screen Sizes"
   ]
  },
  {
   "cell_type": "code",
   "execution_count": null,
   "id": "2eea5b20",
   "metadata": {},
   "outputs": [],
   "source": [
    "db_tables[\"screen_sizes\"]"
   ]
  },
  {
   "cell_type": "markdown",
   "id": "881edcdb",
   "metadata": {},
   "source": [
    "#### Plot Heatmap\n",
    "\n",
    "Visualisation based on the following: https://stackoverflow.com/questions/36957149/density-map-heatmaps-in-matplotlib/36958298"
   ]
  },
  {
   "cell_type": "code",
   "execution_count": null,
   "id": "5f709cea",
   "metadata": {},
   "outputs": [],
   "source": [
    "import numpy as np\n",
    "import matplotlib.pyplot as plt\n",
    "from matplotlib.colors import LinearSegmentedColormap, ListedColormap\n",
    "from scipy.stats.kde import gaussian_kde\n",
    "\n",
    "x,y = db_tables[\"clicks\"][\"x\"], db_tables[\"clicks\"][\"y\"]\n",
    "\n",
    "k = gaussian_kde(np.vstack([x,y]))\n",
    "xi, yi = np.mgrid[x.min():x.max():x.size**0.5*1j,y.min():y.max():y.size**0.5*1j]\n",
    "zi = k(np.vstack([xi.flatten(), yi.flatten()]))\n",
    "\n",
    "# Custom colourmap can be used instead of Matplotlib defaults\n",
    "colors = ['#ffffff', '#4eb3d3', '#a8ddb5', '#fff33b', '#fdc70c', '#f3903f', '#ed683c', '#e93e3a']\n",
    "cm = ListedColormap(colors)\n",
    "\n",
    "# Set figure size\n",
    "fig = plt.figure(figsize=(16,9))\n",
    "ax = fig.add_subplot(title = \"Heatmap of Click Interations (Screen 2)\")\n",
    "\n",
    "# cmap specifies the colourmap and alpha makes the plots semitransparent\n",
    "ax.contourf(xi, yi, zi.reshape(xi.shape), cmap=cm, alpha=0.6)\n",
    "\n",
    "ax.set_xlim(x.min(), x.max())\n",
    "ax.set_ylim(y.min(), y.max())\n",
    "\n",
    "# Hide axis tick labels\n",
    "ax.xaxis.set_visible(False)\n",
    "ax.yaxis.set_visible(False)\n",
    "\n",
    "# Read image to overlay\n",
    "img = plt.imread(screen_content + 'image.png')\n",
    "\n",
    "# Add overlay to plot\n",
    "ax.imshow(img, extent=[x.min(), x.max(), y.min(), y.max()], aspect='auto')\n",
    "\n",
    "# Save plot\n",
    "plt.savefig(outputs + 'clicks.jpg')"
   ]
  },
  {
   "cell_type": "code",
   "execution_count": null,
   "id": "31531e9f",
   "metadata": {},
   "outputs": [],
   "source": []
  }
 ],
 "metadata": {
  "kernelspec": {
   "display_name": "Python 3 (ipykernel)",
   "language": "python",
   "name": "python3"
  },
  "language_info": {
   "codemirror_mode": {
    "name": "ipython",
    "version": 3
   },
   "file_extension": ".py",
   "mimetype": "text/x-python",
   "name": "python",
   "nbconvert_exporter": "python",
   "pygments_lexer": "ipython3",
   "version": "3.8.12"
  }
 },
 "nbformat": 4,
 "nbformat_minor": 5
}
